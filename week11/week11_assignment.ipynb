{
  "cells": [
    {
      "cell_type": "markdown",
      "metadata": {
        "id": "kM8kQoai0AVf"
      },
      "source": [
        "# Week 11 Assignment\n",
        "\n",
        "\n",
        "Please do the programming exercise and verify that your code works using the tests, then think about your final project and fill out the questions in the second part.\n",
        "\n",
        "---\n",
        "---"
      ]
    },
    {
      "cell_type": "markdown",
      "metadata": {
        "id": "VJuWlrR-0AVg"
      },
      "source": [
        "### 47.1: Filtering and summarizing data\n",
        "\n",
        "For this work, you'll find a data file in `/data/complications_all.csv`.\n",
        "\n",
        "Read in the data file and create a variable called `mo_hospitals` that contains a data frame from the `complications_all.csv` file, filtered down to only contain those hospitals from the state of Missouri (MO).\n",
        "\n",
        "Then aggregate that data by hospital into a variable named `mo_summary`.  There are some key fields that we want to summarize:\n",
        "* We want to know the earliest date that each hospital was participating in any program\n",
        "* We want to know the latest date that each hospital stopped participating in any program\n",
        "* We want to know the total number of patients in the denominators of these programs\n",
        "\n",
        "Some things to note:\n",
        "* You will need to convert the `Start Date` and `End Date` to actual datetime fields\n",
        "* You will need to clean up and convert the `Denominator` field to just be numeric - the rule that you should use it to simply remove any records where the `Denominator` is `'Not Available'`\n",
        "\n",
        "\n",
        "The final result of this step should be a new data frame called `mo_summary` that contains one row for each hospital and contains the min start date, max end date, and total denominator.  Use the names `start_date`, `end_date`, and `number` for those columns in `mo_summary`.\n",
        "\n",
        "\n",
        "You do not need to create your code in the form of a function, just make sure your variable names match what I've described above so the tests work."
      ]
    },
    {
      "cell_type": "code",
      "execution_count": 13,
      "metadata": {
        "id": "M79B6yZ_0AVh"
      },
      "outputs": [],
      "source": [
        "import pandas as pd\n",
        "# This is just to show you the name to use for the variable you need to create for this step to pass.\n",
        "all_hospitals = pd.read_csv('https://hds5210-data.s3.amazonaws.com/complications_all.csv')\n"
      ]
    },
    {
      "cell_type": "code",
      "execution_count": 14,
      "metadata": {
        "id": "yjKL2Kzv0AVh",
        "outputId": "75832e9f-2fc8-4c94-b3f1-78eab66f18d6",
        "colab": {
          "base_uri": "https://localhost:8080/"
        }
      },
      "outputs": [
        {
          "output_type": "stream",
          "name": "stdout",
          "text": [
            "                                   start_date   end_date  number\n",
            "Facility Name                                                   \n",
            "BARNES JEWISH HOSPITAL             2015-04-01 2018-06-30  131313\n",
            "BARNES-JEWISH ST PETERS HOSPITAL   2015-04-01 2018-06-30   15668\n",
            "BARNES-JEWISH WEST COUNTY HOSPITAL 2015-04-01 2018-06-30    9622\n",
            "BATES COUNTY MEMORIAL HOSPITAL     2015-07-01 2018-06-30    3117\n",
            "BELTON REGIONAL MEDICAL CENTER     2015-04-01 2018-06-30    9270\n"
          ]
        }
      ],
      "source": [
        "# Do you work here and in as many cells as you need to create a variable called `mo_summary` that matches the requirements\n",
        "import pandas as pd\n",
        "\n",
        "# Step 1: Load the dataset\n",
        "hospitals_data = pd.read_csv('complications_all.csv')\n",
        "\n",
        "# Step 2: Filter out hospitals located in Missouri and create a copy of the filtered data\n",
        "missouri_hospitals = hospitals_data[hospitals_data['State'] == 'MO'].copy()\n",
        "\n",
        "# Step 3: Convert the 'Start Date' and 'End Date' columns to datetime format\n",
        "missouri_hospitals['Start Date'] = pd.to_datetime(missouri_hospitals['Start Date'])\n",
        "missouri_hospitals['End Date'] = pd.to_datetime(missouri_hospitals['End Date'])\n",
        "\n",
        "# Step 4: Exclude rows where the 'Denominator' is marked as 'Not Available'\n",
        "# and change 'Denominator' to numeric type using .loc to avoid the warning\n",
        "valid_hospitals = missouri_hospitals[missouri_hospitals['Denominator'] != 'Not Available'].copy()\n",
        "valid_hospitals.loc[:, 'Denominator'] = pd.to_numeric(valid_hospitals['Denominator'])\n",
        "\n",
        "# Step 5: Group the data by 'Facility Name' and calculate the minimum start date, maximum end date, and the sum of denominators for each hospital\n",
        "hospital_summary = valid_hospitals.groupby('Facility Name').agg(\n",
        "    start_date=('Start Date', 'min'),\n",
        "    end_date=('End Date', 'max'),\n",
        "    number=('Denominator', 'sum')\n",
        ")\n",
        "\n",
        "# Step 6: Display the first few rows of the summary data for review\n",
        "print(hospital_summary.head())\n",
        "\n"
      ]
    },
    {
      "cell_type": "code",
      "execution_count": 15,
      "metadata": {
        "id": "0-EMEDY70AVi"
      },
      "outputs": [],
      "source": [
        "assert(mo_summary['number'].sum() == 1766908)\n",
        "assert(mo_summary['start_date'].min() == pd.Timestamp(2015,4,1))\n",
        "assert(mo_summary['end_date'].max() == pd.Timestamp(2018,6,30))\n",
        "assert(mo_summary.shape == (108,3))\n",
        "assert(mo_summary.loc['BARNES JEWISH HOSPITAL'].number == 131313)\n",
        "assert(mo_summary.loc['BOONE HOSPITAL CENTER'].number == 63099)"
      ]
    },
    {
      "cell_type": "markdown",
      "metadata": {
        "id": "L_lCcVOt0AVi"
      },
      "source": [
        "---\n",
        "\n",
        "### 47.2 Planning your final project\n",
        "\n",
        "You should be thinking about the things we've been learning and how you can apply them to your final project.  Use the rubric to help guid your thinking and then answer the questions below.  This is meant as a guide to help you think through what you will do."
      ]
    },
    {
      "cell_type": "markdown",
      "metadata": {
        "id": "HT4PG4Vz0AVi"
      },
      "source": [
        "#### A) Data Access\n",
        "\n",
        "Your project should include data from at least three distinct types of sources.  For example: AWS S3, Relational Databases, Internet, Web Services, local files.  List what data sources you're planning to use."
      ]
    },
    {
      "cell_type": "markdown",
      "metadata": {
        "id": "ROW_wbqd0AVi"
      },
      "source": [
        "For my final project, I plan to use the following three distinct data sources 1. Relational databases, 2. internet, 3. local files.\n"
      ]
    },
    {
      "cell_type": "markdown",
      "metadata": {
        "id": "Vib9fUyT0AVi"
      },
      "source": [
        "#### B. Data Formats\n",
        "\n",
        "Your project should include data that comes in different file formats.  For example: HL7, EDI, HTML, CSV, Excel, JSON, XML.  List what data formats you're planning to use."
      ]
    },
    {
      "cell_type": "markdown",
      "metadata": {
        "id": "nCXgGI-I0AVi"
      },
      "source": [
        "\n",
        "For this project, I plan to use data in the following different file formats CSV, Excel, JSON.\n"
      ]
    },
    {
      "cell_type": "markdown",
      "metadata": {
        "id": "RZE9CADO0AVi"
      },
      "source": [
        "#### C. Objective\n",
        "\n",
        "What purpose would your project serve in a real work setting?  Take a couple of paragraphs to write down why this is an interesting product."
      ]
    },
    {
      "cell_type": "markdown",
      "metadata": {
        "id": "Tq9limj_0AVj"
      },
      "source": [
        "\n",
        "In a real-world work setting, this project could serve as a critical tool for monitoring and evaluating the performance of hospitals participating in diabetes management programs. Diabetes is a chronic condition that requires ongoing care, and hospitals are often involved in programs aimed at improving patient outcomes, such as reducing complications, hospital readmissions, and managing blood sugar levels. By tracking key metrics like participation start and end dates, as well as patient denominators, healthcare organizations can assess the effectiveness of these programs over time and make data-driven decisions to improve care delivery.\n",
        "\n",
        "For instance, understanding when hospitals first joined diabetes-related initiatives and how long they participated can provide insights into program adherence and sustainability. Furthermore, aggregating data on the number of patients involved (denominators) helps quantify the scope of each hospital’s efforts in managing diabetes. This information can be used for performance benchmarking, identifying best practices, and allocating resources more effectively. Overall, the project would be valuable for healthcare administrators and policymakers aiming to enhance the quality of care for diabetic patients while ensuring that healthcare facilities are consistently meeting program goals.\n",
        "\n",
        "\n",
        "\n",
        "\n",
        "\n",
        "\n",
        "\n"
      ]
    },
    {
      "cell_type": "markdown",
      "metadata": {
        "id": "YZ1wDAJx0AVj"
      },
      "source": [
        "\n",
        "\n",
        "---\n",
        "\n",
        "\n",
        "\n",
        "## Submit your work via GitHub as normal\n"
      ]
    }
  ],
  "metadata": {
    "kernelspec": {
      "display_name": "Python 3",
      "language": "python",
      "name": "python3"
    },
    "language_info": {
      "codemirror_mode": {
        "name": "ipython",
        "version": 3
      },
      "file_extension": ".py",
      "mimetype": "text/x-python",
      "name": "python",
      "nbconvert_exporter": "python",
      "pygments_lexer": "ipython3",
      "version": "3.9.16"
    },
    "colab": {
      "provenance": []
    }
  },
  "nbformat": 4,
  "nbformat_minor": 0
}