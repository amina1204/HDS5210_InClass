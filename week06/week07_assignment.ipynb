{
  "cells": [
    {
      "cell_type": "markdown",
      "metadata": {
        "id": "cWOARD51ClF5"
      },
      "source": [
        "# Week 7 Assignment\n",
        "\n",
        "We've been working with different types of data structures in Python (dictionary, list, etc), how those are represented in JSON documents, and how to write code to access specific data elements. In this week's assignment, you will need to create your own JSON document to store information about yourself and the grades you've received from week 1 to week 4 and the week 6 quiz.  That is, everything you should have received a grade for.  Then you'll need to show me you know how to navigate the JSON in that file.\n",
        "\n",
        "Different from what we've done in the past, you do not have to write any functions or include any docstrings.  Just create some JSON and write some code.\n",
        "\n",
        "---"
      ]
    },
    {
      "cell_type": "markdown",
      "metadata": {
        "id": "kRCCWw8oClF9"
      },
      "source": [
        "## 7.1 Create a JSON file\n",
        "\n",
        "Create a JSON file that contains your name, email, year you were born, all of the grades you've received back so far, and a comment about what you thought was most challenging on each of those assignments.  This can be any structure you choose, but make sure it uses a dictionary and a list, and has at least two levels of hierarchy.  That is, it can't just be one big long list."
      ]
    },
    {
      "cell_type": "markdown",
      "metadata": {
        "id": "ekybUj4HClF-"
      },
      "source": [
        "First, explain how your data structure is going to look..."
      ]
    },
    {
      "cell_type": "markdown",
      "metadata": {
        "id": "HPSlOyVOClF-"
      },
      "source": [
        "* The JSON file I created is Name, email, year born. For the Name, this key holds a string representing your name. In this case, it's \"Amina Khatun\". email: A string containing your email address, \"amina.ak12042gmai.com\". email: A string containing your email address, \"amina.ak12042gmai.com\". For Grades, this is a list that contains dictionaries, where each dictionary corresponds to a specific week's assignment. Each dictionary within the list has three fields: week, grade, comment. For week and grade an integer indicating the week of the assignment, such as 1, 2, 3, etc., and the grade I received for that week's assignment (e.g., 10, 8). For the comment a short string describing the most challenging aspect of that week's assignment.\n"
      ]
    },
    {
      "cell_type": "markdown",
      "metadata": {
        "id": "vnB8BvroClF_"
      },
      "source": [
        "Then put the actual JSON you've created inside the multiline string below..."
      ]
    },
    {
      "cell_type": "code",
      "execution_count": 9,
      "metadata": {
        "id": "Z3fkJf3nClF_"
      },
      "outputs": [],
      "source": [
        "hds5210 = \"\"\"\n",
        "{\n",
        "    \"name\": \"Amina Khatun\",\n",
        "    \"email\": \"amina.ak12042gmai.com\",\n",
        "    \"year_born\": 2000,\n",
        "    \"grades\": [\n",
        "        {\n",
        "            \"week\": 1,\n",
        "            \"grade\": 10,\n",
        "            \"comment\": \"The material was straightforward, but I needed to focus on time management.\"\n",
        "        },\n",
        "        {\n",
        "            \"week\": 2,\n",
        "            \"grade\": 8,\n",
        "            \"comment\": \"The concepts were slightly harder to grasp, especially around data cleaning.\"\n",
        "        },\n",
        "        {\n",
        "            \"week\": 3,\n",
        "            \"grade\": 7,\n",
        "            \"comment\": \"Struggled with understanding how to handle missing data in the assignment.\"\n",
        "        },\n",
        "        {\n",
        "            \"week\": 4,\n",
        "            \"grade\": 9,\n",
        "            \"comment\": \"Had a good grasp of the material, but the coding part took longer than expected.\"\n",
        "        }\n",
        "    ]\n",
        "}\n",
        "\n",
        "\"\"\""
      ]
    },
    {
      "cell_type": "markdown",
      "metadata": {
        "id": "iB_24NEEClGA"
      },
      "source": [
        "## 7.2 Do something with your JSON\n",
        "\n",
        "Now use Python code to do something with the Json above.  Turn it into English text, but make sure that you use at least one loop to access some dict or list content of your JSON.  Below, I've provided some basic code to read in the string above as JSON and return a Python object.  Your job is to work with that data structure and print out the important information like your name, email, and how you did on each assignment."
      ]
    },
    {
      "cell_type": "code",
      "execution_count": 8,
      "metadata": {
        "id": "SIPqNFbOClGB",
        "outputId": "586189d9-7e9e-4d8c-f510-5436cfcea5b3",
        "colab": {
          "base_uri": "https://localhost:8080/"
        }
      },
      "outputs": [
        {
          "output_type": "stream",
          "name": "stdout",
          "text": [
            "Hi my name is Amina Khatun, my email is amina.ak12042gmai.com, I was born in 2000. For week 1, I scored 10. The material was straightforward, but I needed to focus on time management. For week 2, I scored 8. The concepts were slightly harder to grasp, especially around data cleaning. For week 3, I scored 7. Struggled with understanding how to handle missing data in the assignment. For week 4, I scored 9. Had a good grasp of the material, but the coding part took longer than expected. \n"
          ]
        }
      ],
      "source": [
        "import json\n",
        "\n",
        "info = json.loads(hds5210)\n",
        "name = info['name']\n",
        "email = info['email']\n",
        "year_born = info['year_born']\n",
        "grades_info = \"\"\n",
        "\n",
        "for grade in info['grades']:\n",
        "    week = grade['week']\n",
        "    grade_value = grade['grade']\n",
        "    comment = grade['comment']\n",
        "    grades_info += f\"For week {week}, I scored {grade_value}. {comment} \"\n",
        "print(f\"Hi my name is {name}, my email is {email}, I was born in {year_born}. {grades_info}\")"
      ]
    },
    {
      "cell_type": "markdown",
      "metadata": {
        "id": "jLbEp7VlClGB"
      },
      "source": [
        "## 7.3 Reflect\n",
        "\n",
        "Write a paragraph on any reflections you have. Was this hard? Easy?  What parts were most challenging or easiest? What did you like or dislike about the assignment?  Share whatever important thoughts you have abou this assignment."
      ]
    },
    {
      "cell_type": "markdown",
      "metadata": {
        "id": "60RaFJtZClGC"
      },
      "source": [
        "* Working with JSON data in this assignment was pretty interesting and easier than I expected once I got familiar with the json module. The hardest part was figuring out how to organize the output clearly, especially when comparing my details with my friend's. But it was fun making the text flow in a more conversational way.\n",
        "\n",
        "I really liked the hands-on approach because it helped me understand how to work with hierarchical data better. However, I would have appreciated a bit more context on how this applies to real-world scenarios. Overall, it was a useful exercise, and I am excited to take on more tasks like this."
      ]
    },
    {
      "cell_type": "markdown",
      "metadata": {
        "id": "Aoon2q3cClGC"
      },
      "source": [
        "---\n",
        "\n",
        "# Example\n",
        "\n",
        "Below is an example of something similar, but this uses information my and my friend's kids instead of grades."
      ]
    },
    {
      "cell_type": "code",
      "execution_count": 5,
      "metadata": {
        "id": "sN3ZrlU8ClGC",
        "outputId": "e1ae293b-5b03-431a-d353-503af1ae7145",
        "colab": {
          "base_uri": "https://localhost:8080/"
        }
      },
      "outputs": [
        {
          "output_type": "stream",
          "name": "stdout",
          "text": [
            "Hi, my name is Paul. I've got 3 kids. Their names are Ellie, Ada, Teddy.\n",
            "My friend, Anny has 1 kids. That's fewer than me. Their names are 1\n"
          ]
        }
      ],
      "source": [
        "hds5210 = \"\"\"\n",
        "{\n",
        "    \"me\": {\n",
        "        \"name\": \"Paul\",\n",
        "        \"kids\": [\"Ellie\", \"Ada\", \"Teddy\"]\n",
        "    },\n",
        "    \"friend\": {\n",
        "        \"name\": \"Anny\",\n",
        "        \"kids\": [\"Abby\"]\n",
        "    }\n",
        "}\n",
        "\"\"\"\n",
        "\n",
        "import json\n",
        "\n",
        "info = json.loads(hds5210)\n",
        "\n",
        "me = info[\"me\"][\"name\"]\n",
        "my_kids_count = len(info[\"me\"][\"kids\"])\n",
        "kids_list = \", \".join(info[\"me\"][\"kids\"])\n",
        "friend = info[\"friend\"][\"name\"]\n",
        "friends_kid_count = len(info[\"friend\"][\"kids\"])\n",
        "friend_kids = \", \".join(info[\"friend\"][\"kids\"])\n",
        "compare = \"more\" if friends_kid_count > my_kids_count else \"fewer\"\n",
        "\n",
        "print(f\"Hi, my name is {me}. I've got {my_kids_count} kids. Their names are {kids_list}.\")\n",
        "print(f\"My friend, {friend} has {friends_kid_count} kids. That's {compare} than me. Their names are {friends_kid_count}\")"
      ]
    }
  ],
  "metadata": {
    "kernelspec": {
      "display_name": "Python 3",
      "language": "python",
      "name": "python3"
    },
    "language_info": {
      "codemirror_mode": {
        "name": "ipython",
        "version": 3
      },
      "file_extension": ".py",
      "mimetype": "text/x-python",
      "name": "python",
      "nbconvert_exporter": "python",
      "pygments_lexer": "ipython3",
      "version": "3.9.16"
    },
    "colab": {
      "provenance": []
    }
  },
  "nbformat": 4,
  "nbformat_minor": 0
}