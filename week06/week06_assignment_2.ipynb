{
  "cells": [
    {
      "cell_type": "markdown",
      "metadata": {
        "nbgrader": {
          "grade": false,
          "grade_id": "intro",
          "locked": true,
          "schema_version": 1,
          "solution": false
        },
        "id": "4B0nnLeHQdyM"
      },
      "source": [
        "# Week 6 Exercises\n",
        "\n",
        "_McKinney 6.1_\n",
        "\n",
        "There are multiple ways to solve the problems below.  You can use any one of several approaches.  For example, you can read CSV files using Pandas or the csv module.  Your score won't depend on which modules you choose to use unless explicitly noted below, but your programming style will still matter."
      ]
    },
    {
      "cell_type": "markdown",
      "metadata": {
        "nbgrader": {
          "grade": false,
          "grade_id": "q1-description",
          "locked": true,
          "schema_version": 1,
          "solution": false
        },
        "id": "fPQfybuEQdyN"
      },
      "source": [
        "### 30.1 List of Allergies\n",
        "\n",
        "In the /data directory on the Jupyter server, there is a file called `allergies.json` that contains a list of patient allergies.  It is taken from sample data provided by the EHR vendor, Epic, here: https://open.epic.com/Clinical/Allergy\n",
        "\n",
        "Take some time to look at the structure of the file.  You can open it directly in Jupyter by clicking the _Home_ icon, then the _from_instructor_ folder, and then the _data_ folder.\n",
        "\n",
        "Within the file, you'll see that it is a dictionary with many items in it.  One of those items is called `entry` and that item is a list of things.  You can tell that because the item name is immediately followed by an opening square bracket, signifying the start of a list.  It's line 11 of the file: `  \"entry\": [`\n",
        "\n",
        "Write a function named `allergy_count(json_file)` that takes as one parameter the name of the JSON file and returns an integer number of entries in that file.  Your function should open the file, read the json into a Python object, and return how many items there are in the list of `entry`s."
      ]
    },
    {
      "cell_type": "code",
      "execution_count": 188,
      "metadata": {
        "id": "yaUXQw3yQdyN"
      },
      "outputs": [],
      "source": [
        "import json\n",
        "ALLERGIES_FILE=\"allergies.json\""
      ]
    },
    {
      "cell_type": "code",
      "execution_count": 189,
      "metadata": {
        "nbgrader": {
          "grade": false,
          "grade_id": "q1-answer",
          "locked": false,
          "schema_version": 1,
          "solution": true
        },
        "colab": {
          "base_uri": "https://localhost:8080/"
        },
        "id": "b2JpEhLEQdyO",
        "outputId": "f2ed78b8-9b4c-4db4-f1d4-c79e6ee23287"
      },
      "outputs": [
        {
          "output_type": "stream",
          "name": "stdout",
          "text": [
            "4\n"
          ]
        }
      ],
      "source": [
        "\n",
        "# Define ALLERGIES_FILE before using it\n",
        "ALLERGIES_FILE = \"allergies.json\"\n",
        "\n",
        "# Load the allergy data after defining ALLERGIES_FILE\n",
        "allergies = json.load(open(ALLERGIES_FILE))\n",
        "\n",
        "def allergy_count(file_path=ALLERGIES_FILE):\n",
        "    \"\"\"\n",
        "    Counts the occurrences of each allergy substance in a JSON file.\n",
        "\n",
        "    Args:\n",
        "        file_path (str, optional): The path to the JSON file. Defaults to ALLERGIES_FILE.\n",
        "\n",
        "    Returns:\n",
        "        collections.Counter: A Counter object containing the allergy substances and their counts.\n",
        "    \"\"\"\n",
        "    # Load the allergy data from the JSON file\n",
        "    with open(file_path, 'r') as file:\n",
        "        data = json.load(file)\n",
        "\n",
        "    # Extract the allergy substances\n",
        "    substances = [entry['resource']['substance']['text'] for entry in data['entry']]\n",
        "\n",
        "    # Count occurrences of each substance\n",
        "    # substance_count = Counter(substances)\n",
        "    substance_count = len(substances)\n",
        "\n",
        "    return substance_count\n",
        "\n",
        "# Call the function with the default file path or provide your own\n",
        "allergy_counts = allergy_count()  # Using the default ALLERGIES_FILE\n",
        "\n",
        "print(allergy_counts)"
      ]
    },
    {
      "cell_type": "code",
      "execution_count": 190,
      "metadata": {
        "colab": {
          "base_uri": "https://localhost:8080/"
        },
        "id": "DEXQ2gemQdyO",
        "outputId": "40b7d090-e6d4-452d-cc6d-a528a0404cff"
      },
      "outputs": [
        {
          "output_type": "execute_result",
          "data": {
            "text/plain": [
              "4"
            ]
          },
          "metadata": {},
          "execution_count": 190
        }
      ],
      "source": [
        "allergy_count(ALLERGIES_FILE)"
      ]
    },
    {
      "cell_type": "code",
      "execution_count": 191,
      "metadata": {
        "nbgrader": {
          "grade": true,
          "grade_id": "q1-tests",
          "locked": true,
          "points": 5,
          "schema_version": 1,
          "solution": false
        },
        "id": "-FDdUSPuQdyO"
      },
      "outputs": [],
      "source": [
        "assert type(allergy_count(ALLERGIES_FILE)) == int\n",
        "assert allergy_count(ALLERGIES_FILE) == 4"
      ]
    },
    {
      "cell_type": "markdown",
      "metadata": {
        "id": "Z1Ndo-MMQdyO"
      },
      "source": [
        "### 30.2 Number of Patients\n",
        "\n",
        "If you dig a little bit deaper into this list of allergies, you'll see that each result has a patient associated with it.  Create a funcation called `patient_count(json_file)` that will count how many unique patients we have in this JSON structure.  "
      ]
    },
    {
      "cell_type": "code",
      "execution_count": 192,
      "metadata": {
        "colab": {
          "base_uri": "https://localhost:8080/"
        },
        "id": "5FNCBBZHQdyP",
        "outputId": "d0badab9-82e5-4e09-83a7-30278d403001"
      },
      "outputs": [
        {
          "output_type": "stream",
          "name": "stdout",
          "text": [
            "Number of unique patients: <function patient_count at 0x7fda0d2029e0>\n"
          ]
        }
      ],
      "source": [
        "allergies = json.load(open(ALLERGIES_FILE))\n",
        "\n",
        "\n",
        "ALLERGIES_FILE = \"allergies.json\" # This variable is defined but not used\n",
        "def patient_count(file_path=ALLERGIES_FILE):\n",
        "    # Load the allergy data from the JSON file\n",
        "    with open(file_path, 'r') as file:\n",
        "        data = json.load(file)\n",
        "\n",
        "    # Extract unique patient references\n",
        "    patients = {entry['resource']['patient']['reference'] for entry in data['entry']}\n",
        "\n",
        "    # Count unique patients\n",
        "    return len(patients)\n",
        "\n",
        "unique_patient_count = patient_count()\n",
        "print(f\"Number of unique patients: {patient_count}\")"
      ]
    },
    {
      "cell_type": "code",
      "execution_count": 193,
      "metadata": {
        "colab": {
          "base_uri": "https://localhost:8080/"
        },
        "id": "G01z_1sUQdyP",
        "outputId": "2992f2b9-389e-4bba-c446-716bba5d60c8"
      },
      "outputs": [
        {
          "output_type": "execute_result",
          "data": {
            "text/plain": [
              "2"
            ]
          },
          "metadata": {},
          "execution_count": 193
        }
      ],
      "source": [
        "patient_count(ALLERGIES_FILE)"
      ]
    },
    {
      "cell_type": "code",
      "execution_count": 194,
      "metadata": {
        "id": "tMmydd2jQdyP"
      },
      "outputs": [],
      "source": [
        "assert type(patient_count(ALLERGIES_FILE)) == int\n",
        "assert patient_count(ALLERGIES_FILE) == 2"
      ]
    },
    {
      "cell_type": "markdown",
      "metadata": {
        "id": "ZIlY1jzLQdyP"
      },
      "source": [
        "### 30.3 How Many Allergies per Patient\n",
        "\n",
        "Although each entry is a separate allergy, several of them are for the same patient.  Write a function called `allergy_per_patient(json_file)` that counts up how many allergies each patient has.\n"
      ]
    },
    {
      "cell_type": "code",
      "execution_count": 195,
      "metadata": {
        "colab": {
          "base_uri": "https://localhost:8080/"
        },
        "id": "8LoxJ4PDQdyP",
        "outputId": "16dcfb41-f15c-4305-ae6e-c3c686f8be44"
      },
      "outputs": [
        {
          "output_type": "stream",
          "name": "stdout",
          "text": [
            "{'Jason Argonaut': 3, 'Paul Boal': 1}\n"
          ]
        }
      ],
      "source": [
        "import json\n",
        "from collections import defaultdict\n",
        "\n",
        "def allergy_per_patient(file_path):\n",
        "    \"\"\"\n",
        "    Calculates the number of allergies per patient from a JSON file.\n",
        "\n",
        "    Args:\n",
        "        file_path (str): The path to the JSON file containing allergy data.\n",
        "\n",
        "    Returns:\n",
        "        dict: A dictionary where keys are patient names and values\n",
        "              are the number of allergies for each patient.\n",
        "    \"\"\"\n",
        "\n",
        "    with open(file_path, 'r') as file:\n",
        "        data = json.load(file)\n",
        "\n",
        "    allergies_by_patient = defaultdict(int)\n",
        "    for entry in data['entry']:\n",
        "        patient_name = entry['resource']['patient']['display']\n",
        "        allergies_by_patient[patient_name] += 1\n",
        "\n",
        "    return dict(allergies_by_patient)\n",
        "\n",
        "# Example usage\n",
        "file_path = \"allergies.json\"\n",
        "result = allergy_per_patient(file_path)\n",
        "print(result)"
      ]
    },
    {
      "cell_type": "code",
      "execution_count": 196,
      "metadata": {
        "colab": {
          "base_uri": "https://localhost:8080/"
        },
        "id": "T4qS2IYqQdyP",
        "outputId": "96892cc9-5b82-46b3-d5ad-6005a9027126"
      },
      "outputs": [
        {
          "output_type": "execute_result",
          "data": {
            "text/plain": [
              "{'Jason Argonaut': 3, 'Paul Boal': 1}"
            ]
          },
          "metadata": {},
          "execution_count": 196
        }
      ],
      "source": [
        "allergy_per_patient(ALLERGIES_FILE)"
      ]
    },
    {
      "cell_type": "code",
      "execution_count": 197,
      "metadata": {
        "id": "Sv7HNiQAQdyQ"
      },
      "outputs": [],
      "source": [
        "assert type(allergy_per_patient(ALLERGIES_FILE)) == dict\n",
        "assert allergy_per_patient(ALLERGIES_FILE) == {'Paul Boal': 1, 'Jason Argonaut': 3}"
      ]
    },
    {
      "cell_type": "markdown",
      "metadata": {
        "nbgrader": {
          "grade": false,
          "grade_id": "q2-question",
          "locked": true,
          "schema_version": 1,
          "solution": false
        },
        "id": "zhT8OH5FQdyQ"
      },
      "source": [
        "### 30.4 Patient Allergies and Reaction\n",
        "\n",
        "You'll see in the file that each of the items in the `entry` list have several other attributes including a patient name, substance text representation, and a reaction manifestation.  Create a function named `allergy_list(json_file)` that will create an output list that has patient name, allergy, and reaction for each `entry`.  The actual result you should get will be:\n",
        "\n",
        "```python\n",
        "[['Jason Argonaut', 'PENICILLIN G', 'Hives'],\n",
        " ['Paul Boal', 'PENICILLIN G', 'Bruising'],\n",
        " ['Jason Argonaut', 'SHELLFISH-DERIVED PRODUCTS', 'Itching'],\n",
        " ['Jason Argonaut', 'STRAWBERRY', 'Anaphylaxis']]\n",
        "```\n",
        "\n",
        "You'll notice that the reaction and the manifestation of that action are lists.  You only need to capture the first reaction and the first manifestation of the action.  That is, if there is a list of things, just output the first one."
      ]
    },
    {
      "cell_type": "code",
      "execution_count": 198,
      "metadata": {
        "nbgrader": {
          "grade": false,
          "grade_id": "q2-answer",
          "locked": false,
          "schema_version": 1,
          "solution": true
        },
        "id": "xvvel10YQdyQ"
      },
      "outputs": [],
      "source": [
        "import json\n",
        "from collections import defaultdict\n",
        "\n",
        "def allergy_list(json_file):\n",
        "  \"\"\"\n",
        "  This function returns a list of lists, where each linner list represents\n",
        "  a patient's allergy and reaction.\n",
        "retuns:\n",
        "  list: A list of lists, each containing:\n",
        "  patient_name (str): The name of the patient.\n",
        "  all_med (str): The medication name or substance the patient is allergic to.\n",
        "  all_react (str): The reaction experienced by the patient.\n",
        "test:\n",
        "  allergy_list(ALLERGIES_FILE)\n",
        "  [['Jason Argonaut', 'PENICILLIN G', 'Hives'], ['Paul Boal', 'PENICILLIN G', 'Bruising'], ['Jason Argonaut', 'SHELLFISH-DERIVED PRODUCTS', 'Itching'], ['Jason Argonaut', 'STRAWBERRY', 'Anaphylaxis']]\n",
        "  \"\"\"\n",
        "  with open(json_file) as file:\n",
        "    data = json.load(file)\n",
        "    entries = data['entry']\n",
        "    allergy_list = []\n",
        " # all_med: allergy medication, all_react: allergy reaction.\n",
        "    for entry in entries:\n",
        "      patient_name = entry['resource']['patient']['display']\n",
        "      all_med = entry['resource']['substance']['text']\n",
        "      all_react = entry['resource']['reaction'][0]['manifestation'][0]['text']\n",
        "      allergy_list.append([patient_name, all_med, all_react])\n",
        "\n",
        "  return allergy_list\n",
        ""
      ]
    },
    {
      "cell_type": "code",
      "execution_count": 199,
      "metadata": {
        "colab": {
          "base_uri": "https://localhost:8080/"
        },
        "id": "JkKj5d8WQdyQ",
        "outputId": "92875ba1-6721-471f-8be7-4c4d39e27817"
      },
      "outputs": [
        {
          "output_type": "execute_result",
          "data": {
            "text/plain": [
              "[['Jason Argonaut', 'PENICILLIN G', 'Hives'],\n",
              " ['Paul Boal', 'PENICILLIN G', 'Bruising'],\n",
              " ['Jason Argonaut', 'SHELLFISH-DERIVED PRODUCTS', 'Itching'],\n",
              " ['Jason Argonaut', 'STRAWBERRY', 'Anaphylaxis']]"
            ]
          },
          "metadata": {},
          "execution_count": 199
        }
      ],
      "source": [
        "allergy_list(ALLERGIES_FILE)"
      ]
    },
    {
      "cell_type": "code",
      "execution_count": 200,
      "metadata": {
        "nbgrader": {
          "grade": true,
          "grade_id": "q2-tests",
          "locked": true,
          "points": 10,
          "schema_version": 1,
          "solution": false
        },
        "id": "RwmJOhQoQdyQ"
      },
      "outputs": [],
      "source": [
        "assert allergy_list(ALLERGIES_FILE) == [['Jason Argonaut', 'PENICILLIN G', 'Hives'],\n",
        " ['Paul Boal', 'PENICILLIN G', 'Bruising'],\n",
        " ['Jason Argonaut', 'SHELLFISH-DERIVED PRODUCTS', 'Itching'],\n",
        " ['Jason Argonaut', 'STRAWBERRY', 'Anaphylaxis']]\n"
      ]
    },
    {
      "cell_type": "markdown",
      "metadata": {
        "nbgrader": {
          "grade": false,
          "grade_id": "q3-question",
          "locked": true,
          "schema_version": 1,
          "solution": false
        },
        "id": "U97OHKrSQdyQ"
      },
      "source": [
        "### 30.5 Allergy Reaction\n",
        "\n",
        "Write a function called `allergy_reaction(json_file,patient,substance)` that takes three parameter and returns the reaction that will happen if the patient takes the specified substance.  You can solve this, in part, by calling your `allergy_list` function inside your new `allergy_reaction` function.\n",
        "\n",
        "If the substance is not found in the allergy list, the function should return None."
      ]
    },
    {
      "cell_type": "code",
      "source": [
        "import json\n",
        "\n",
        "def allergy_reaction(json_file, patient, diagnosis):\n",
        "  \"\"\"\n",
        "  This function parses a json file containing allergy information and extracts the allergic reaction\n",
        "  associated with a given patient and their diagnosed allergy.\n",
        "  returns:\n",
        "    str: The reaction associated with the specified patient and diagnosis, or None if not found.\n",
        "  test:\n",
        "  >>> allergy_reaction(ALLERGIES_FILE, 'Jason Argonaut', 'PENICILLIN G')\n",
        "  'Hives'\n",
        "  \"\"\"\n",
        "  with open(json_file) as file:\n",
        "    data = json.load(file)\n",
        "    entries = data['entry']\n",
        "\n",
        "    # Iterate through entries and find matching patient and diagnosis\n",
        "    for entry in entries:\n",
        "      patient_name = entry.get('resource').get('patient').get('display')\n",
        "      all_med = entry.get('resource').get('substance').get('text')\n",
        "      all_react = entry.get('resource').get('reaction')[0].get('manifestation')[0].get('text')\n",
        "\n",
        "      # Check if current entry matches the provided patient and diagnosis\n",
        "      if patient_name == patient and all_med == diagnosis:\n",
        "        # If it matches, return the allergic reaction\n",
        "        return all_react\n",
        "\n",
        "    # If no match is found after iterating through all entries, return None\n",
        "    return None"
      ],
      "metadata": {
        "id": "m1ZQ56EEzlcD"
      },
      "execution_count": 201,
      "outputs": []
    },
    {
      "cell_type": "code",
      "execution_count": 202,
      "metadata": {
        "colab": {
          "base_uri": "https://localhost:8080/",
          "height": 36
        },
        "id": "Gq544ihvQdyQ",
        "outputId": "a9553205-77f8-40d6-f0a1-295c77400bcb"
      },
      "outputs": [
        {
          "output_type": "execute_result",
          "data": {
            "text/plain": [
              "'Hives'"
            ],
            "application/vnd.google.colaboratory.intrinsic+json": {
              "type": "string"
            }
          },
          "metadata": {},
          "execution_count": 202
        }
      ],
      "source": [
        "allergy_reaction(ALLERGIES_FILE, 'Jason Argonaut', 'PENICILLIN G')"
      ]
    },
    {
      "cell_type": "code",
      "execution_count": 203,
      "metadata": {
        "nbgrader": {
          "grade": true,
          "grade_id": "q3-tests",
          "locked": true,
          "points": 5,
          "schema_version": 1,
          "solution": false
        },
        "id": "5kowtqxQQdyR"
      },
      "outputs": [],
      "source": [
        "assert allergy_reaction(ALLERGIES_FILE, 'Jason Argonaut', 'PENICILLIN G') == 'Hives'\n",
        "assert allergy_reaction(ALLERGIES_FILE, 'Jason Argonaut', 'SHELLFISH-DERIVED PRODUCTS') == 'Itching'\n",
        "assert allergy_reaction(ALLERGIES_FILE, 'Jason Argonaut', 'STRAWBERRY') == 'Anaphylaxis'\n",
        "assert allergy_reaction(ALLERGIES_FILE, 'Jason Argonaut', 'PENICILLIN') == None\n",
        "assert allergy_reaction(ALLERGIES_FILE, 'Paul Boal', 'PENICILLIN G') == 'Bruising'"
      ]
    },
    {
      "cell_type": "markdown",
      "metadata": {
        "id": "0NMl_AM4QdyR"
      },
      "source": [
        "---\n",
        "\n",
        "## Check your work above\n",
        "\n",
        "If you didn't get them all correct, take a few minutes to think through those that aren't correct.\n",
        "\n",
        "\n",
        "## Submitting Your Work\n",
        "\n",
        "In order to submit your work, you'll need to save this notebook file back to GitHub.  To do that in Google Colab:\n",
        "1. File -> Save a Copy in GitHub\n",
        "2. Make sure your HDS5210 repository is selected\n",
        "3. Make sure the file name includes the week number like this: `week06/week06_assignment_2.ipynb`\n",
        "4. Add a commit message that means something\n",
        "\n",
        "**Be sure week names are lowercase and use a two digit week number!!**\n",
        "\n",
        "**Be sure you use the same file name provided by the instructor!!**\n",
        "\n"
      ]
    }
  ],
  "metadata": {
    "celltoolbar": "Create Assignment",
    "kernelspec": {
      "display_name": "Python 3",
      "language": "python",
      "name": "python3"
    },
    "language_info": {
      "codemirror_mode": {
        "name": "ipython",
        "version": 3
      },
      "file_extension": ".py",
      "mimetype": "text/x-python",
      "name": "python",
      "nbconvert_exporter": "python",
      "pygments_lexer": "ipython3",
      "version": "3.9.16"
    },
    "colab": {
      "provenance": []
    }
  },
  "nbformat": 4,
  "nbformat_minor": 0
}