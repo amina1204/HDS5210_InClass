{
  "cells": [
    {
      "cell_type": "markdown",
      "metadata": {
        "nbgrader": {
          "grade": false,
          "grade_id": "intro",
          "locked": true,
          "schema_version": 1,
          "solution": false
        },
        "id": "t5LsW8SJPCgh"
      },
      "source": [
        "# Working with multiple data sets\n",
        "\n",
        "There are two data files that we'll be working with for this week's assignment.  They are described below.  Load those data files in with Pandas and then work to answering each of the questions below.  All of these files are found in our usual s3 bucket: `https://hds5210-data.s3.amazonaws.com`\n",
        "\n",
        "## npidata.csv\n",
        "\n",
        "This file is basic information about every healthcare provider in the US.  It has one row for each NPI (National Provider Identifier).  It contains information such as the provider's name and address.\n",
        "\n",
        "* https://hds5210-data.s3.amazonaws.com/npidata.csv\n",
        "\n",
        "\n",
        "## cmsYYYY.csv\n",
        "\n",
        "These are files about what kinds of procedures and patients providers in the US are serving under CMS programs, Medicare and Medicaid.  Each contains various statistics about providers over the course of a year.  There are three of these, for the years 2014, 2015, and 2016.  These files, however, don't contain information about the provider such as where the provider is located.\n",
        "\n",
        "* https://hds5210-data.s3.amazonaws.com/cms2014.csv\n",
        "* https://hds5210-data.s3.amazonaws.com/cms2015.csv\n",
        "* https://hds5210-data.s3.amazonaws.com/cms2016.csv\n",
        "\n",
        "## Our Goals\n",
        "\n",
        "For this assignment, we're going to want to compute some statistics based on the data in the **cms** files, but aggregate that data based on information in the **npidata** file.  As in last week's assignment, you'll need to store your answers in a variable called `answer` at the end of each step."
      ]
    },
    {
      "cell_type": "code",
      "execution_count": 95,
      "metadata": {
        "nbgrader": {
          "grade": false,
          "grade_id": "import",
          "locked": true,
          "schema_version": 1,
          "solution": false
        },
        "id": "JUZ5ixY8PCgj"
      },
      "outputs": [],
      "source": [
        "import pandas as pd"
      ]
    },
    {
      "cell_type": "markdown",
      "metadata": {
        "nbgrader": {
          "grade": false,
          "grade_id": "01-intro",
          "locked": true,
          "schema_version": 1,
          "solution": false
        },
        "id": "veqvGoGIPCgk"
      },
      "source": [
        "## Part 1\n",
        "\n",
        "In this first step, we'll need to merge together all of the **cms** files into a single dataframe.  Be careful that these files might not be identical, so you'll have to look a little bit to figure out how to merge them.\n",
        "\n",
        "As you are merging them, make sure that you retain information about which file (i.e. which year) the data came from.  Call that new columns `year`.\n",
        "\n",
        "In your `answer` variable, provide a complete data frame that contains all of the rows and columns from the **cms** files, plus an additional column to store the year/file that particular row came from.\n",
        "\n",
        "The assertion tests will give you a good idea as to if you're merging the files correctly."
      ]
    },
    {
      "cell_type": "code",
      "execution_count": 96,
      "metadata": {
        "nbgrader": {
          "grade": false,
          "grade_id": "01-solution",
          "locked": false,
          "schema_version": 1,
          "solution": true
        },
        "id": "ShTqILSzPCgk"
      },
      "outputs": [],
      "source": [
        "answer = None\n",
        "\n",
        "### SOLUTION\n",
        "\n",
        "import pandas as pd\n",
        "\n",
        "answer = None\n",
        "\n",
        "# Load the CMS files for each year\n",
        "cms2016_df = pd.read_csv('/content/cms2016.csv')\n",
        "cms2015_df = pd.read_csv('/content/cms2015.csv')\n",
        "cms2014_df = pd.read_csv('/content/cms2014.csv')\n",
        "\n",
        "# Convert all column names to lowercase\n",
        "cms2016_df.columns = cms2016_df.columns.str.lower()\n",
        "cms2015_df.columns = cms2015_df.columns.str.lower()\n",
        "cms2014_df.columns = cms2014_df.columns.str.lower()\n",
        "\n",
        "# Add a 'year' column to each dataframe to track the source year\n",
        "cms2014_df['year'] = 2014\n",
        "cms2015_df['year'] = 2015\n",
        "cms2016_df['year'] = 2016\n",
        "\n",
        "# Merge the dataframes\n",
        "cms_all_df = pd.concat([cms2014_df, cms2015_df, cms2016_df], ignore_index=True)\n",
        "\n",
        "# Output the merged dataframe\n",
        "answer = cms_all_df\n",
        "\n"
      ]
    },
    {
      "cell_type": "code",
      "source": [
        "answer.shape"
      ],
      "metadata": {
        "id": "_TdOt4dYPRy_",
        "outputId": "aac4022f-6213-4196-cb0b-82e91e30a96d",
        "colab": {
          "base_uri": "https://localhost:8080/"
        }
      },
      "execution_count": 97,
      "outputs": [
        {
          "output_type": "execute_result",
          "data": {
            "text/plain": [
              "(193862, 60)"
            ]
          },
          "metadata": {},
          "execution_count": 97
        }
      ]
    },
    {
      "cell_type": "code",
      "source": [
        "list(answer['year'].unique())"
      ],
      "metadata": {
        "id": "8WCrfpXVPTAz",
        "outputId": "0ac4f5dd-3420-42b1-d687-c0b42d4ecf94",
        "colab": {
          "base_uri": "https://localhost:8080/"
        }
      },
      "execution_count": 98,
      "outputs": [
        {
          "output_type": "execute_result",
          "data": {
            "text/plain": [
              "[2014, 2015, 2016]"
            ]
          },
          "metadata": {},
          "execution_count": 98
        }
      ]
    },
    {
      "cell_type": "code",
      "execution_count": 99,
      "metadata": {
        "nbgrader": {
          "grade": true,
          "grade_id": "01-tests",
          "locked": true,
          "points": 5,
          "schema_version": 1,
          "solution": false
        },
        "id": "-XLqoaoAPCgl"
      },
      "outputs": [],
      "source": [
        "assert(answer.shape == (193862, 60))\n",
        "assert(list(answer['year'].unique()) == [2014,2015,2016])\n",
        "assert(set(answer.columns.str.lower()) == set(['year', 'nbr', 'npi', 'provider_type',\n",
        "       'medicare_participation_indicator', 'number_of_hcpcs', 'total_services',\n",
        "       'total_unique_benes', 'total_submitted_chrg_amt',\n",
        "       'total_medicare_allowed_amt', 'total_medicare_payment_amt',\n",
        "       'total_medicare_stnd_amt', 'drug_suppress_indicator',\n",
        "       'number_of_drug_hcpcs', 'total_drug_services',\n",
        "       'total_drug_unique_benes', 'total_drug_submitted_chrg_amt',\n",
        "       'total_drug_medicare_allowed_amt', 'total_drug_medicare_payment_amt',\n",
        "       'total_drug_medicare_stnd_amt', 'med_suppress_indicator',\n",
        "       'number_of_med_hcpcs', 'total_med_services', 'total_med_unique_benes',\n",
        "       'total_med_submitted_chrg_amt', 'total_med_medicare_allowed_amt',\n",
        "       'total_med_medicare_payment_amt', 'total_med_medicare_stnd_amt',\n",
        "       'beneficiary_average_age', 'beneficiary_age_less_65_count',\n",
        "       'beneficiary_age_65_74_count', 'beneficiary_age_75_84_count',\n",
        "       'beneficiary_age_greater_84_count', 'beneficiary_female_count',\n",
        "       'beneficiary_male_count', 'beneficiary_race_white_count',\n",
        "       'beneficiary_race_black_count', 'beneficiary_race_api_count',\n",
        "       'beneficiary_race_hispanic_count', 'beneficiary_race_natind_count',\n",
        "       'beneficiary_race_other_count', 'beneficiary_nondual_count',\n",
        "       'beneficiary_dual_count', 'beneficiary_cc_afib_percent',\n",
        "       'beneficiary_cc_alzrdsd_percent', 'beneficiary_cc_asthma_percent',\n",
        "       'beneficiary_cc_cancer_percent', 'beneficiary_cc_chf_percent',\n",
        "       'beneficiary_cc_ckd_percent', 'beneficiary_cc_copd_percent',\n",
        "       'beneficiary_cc_depr_percent', 'beneficiary_cc_diab_percent',\n",
        "       'beneficiary_cc_hyperl_percent', 'beneficiary_cc_hypert_percent',\n",
        "       'beneficiary_cc_ihd_percent', 'beneficiary_cc_ost_percent',\n",
        "       'beneficiary_cc_raoa_percent', 'beneficiary_cc_schiot_percent',\n",
        "       'beneficiary_cc_strk_percent', 'beneficiary_average_risk_score']))"
      ]
    },
    {
      "cell_type": "code",
      "execution_count": 99,
      "metadata": {
        "id": "Yb5Fe-XDPCgl"
      },
      "outputs": [],
      "source": []
    },
    {
      "cell_type": "markdown",
      "metadata": {
        "nbgrader": {
          "grade": false,
          "grade_id": "02-intro",
          "locked": true,
          "schema_version": 1,
          "solution": false
        },
        "id": "wq5-uN_CPCgl"
      },
      "source": [
        "## Part 2\n",
        "\n",
        "In this next part, we're going to join the **cms** data with the provider information in the **/data/npidata.csv** file.  In this join, we don't want to lose any records from the **cms** files, even if no matching provider exists in the **npidata** file.  However, we don't care about any providers from the **npidata** file that don't have records in the **cms** files.  Those providers can be ignored.\n",
        "\n",
        "Join the data files together to create one unified data frame called `answer`.  This dataframe should have all the columns from both **cms** and **npidata** files, joined together using the `npi` column.  \n",
        "\n",
        "Note that `npi` is unique in the **npidata** file."
      ]
    },
    {
      "cell_type": "code",
      "execution_count": 100,
      "metadata": {
        "nbgrader": {
          "grade": false,
          "grade_id": "02-solution",
          "locked": false,
          "schema_version": 1,
          "solution": true
        },
        "id": "FOJgGYEhPCgm",
        "outputId": "d932b9c9-ef01-417a-e97e-02f78e8c0b27",
        "colab": {
          "base_uri": "https://localhost:8080/"
        }
      },
      "outputs": [
        {
          "output_type": "stream",
          "name": "stderr",
          "text": [
            "<ipython-input-100-127376b4de9b>:6: DtypeWarning: Columns (18,33) have mixed types. Specify dtype option on import or set low_memory=False.\n",
            "  npidata_df = pd.read_csv('npidata.csv')\n"
          ]
        },
        {
          "output_type": "stream",
          "name": "stdout",
          "text": [
            "Initial columns in cms_all_df: ['nbr', 'npi', 'provider_type', 'medicare_participation_indicator', 'number_of_hcpcs', 'total_services', 'total_unique_benes', 'total_submitted_chrg_amt', 'total_medicare_allowed_amt', 'total_medicare_payment_amt', 'total_medicare_stnd_amt', 'drug_suppress_indicator', 'number_of_drug_hcpcs', 'total_drug_services', 'total_drug_unique_benes', 'total_drug_submitted_chrg_amt', 'total_drug_medicare_allowed_amt', 'total_drug_medicare_payment_amt', 'total_drug_medicare_stnd_amt', 'med_suppress_indicator', 'number_of_med_hcpcs', 'total_med_services', 'total_med_unique_benes', 'total_med_submitted_chrg_amt', 'total_med_medicare_allowed_amt', 'total_med_medicare_payment_amt', 'total_med_medicare_stnd_amt', 'beneficiary_average_age', 'beneficiary_age_less_65_count', 'beneficiary_age_65_74_count', 'beneficiary_age_75_84_count', 'beneficiary_age_greater_84_count', 'beneficiary_female_count', 'beneficiary_male_count', 'beneficiary_race_white_count', 'beneficiary_race_black_count', 'beneficiary_race_api_count', 'beneficiary_race_hispanic_count', 'beneficiary_race_natind_count', 'beneficiary_race_other_count', 'beneficiary_nondual_count', 'beneficiary_dual_count', 'beneficiary_cc_afib_percent', 'beneficiary_cc_alzrdsd_percent', 'beneficiary_cc_asthma_percent', 'beneficiary_cc_cancer_percent', 'beneficiary_cc_chf_percent', 'beneficiary_cc_ckd_percent', 'beneficiary_cc_copd_percent', 'beneficiary_cc_depr_percent', 'beneficiary_cc_diab_percent', 'beneficiary_cc_hyperl_percent', 'beneficiary_cc_hypert_percent', 'beneficiary_cc_ihd_percent', 'beneficiary_cc_ost_percent', 'beneficiary_cc_raoa_percent', 'beneficiary_cc_schiot_percent', 'beneficiary_cc_strk_percent', 'beneficiary_average_risk_score', 'year']\n",
            "Initial column count in cms_all_df: 60\n",
            "Initial columns in npidata_df: ['row', 'npi', 'Entity Type Code', 'Replacement NPI', 'Employer Identification Number (EIN)', 'Provider Organization Name (Legal Business Name)', 'Provider Last Name (Legal Name)', 'Provider First Name', 'Provider Middle Name', 'Provider Name Prefix Text', 'Provider Name Suffix Text', 'Provider Credential Text', 'Provider Other Organization Name', 'Provider Other Organization Name Type Code', 'Provider Other Last Name', 'Provider Other First Name', 'Provider Other Middle Name', 'Provider Other Name Prefix Text', 'Provider Other Name Suffix Text', 'Provider Other Credential Text', 'Provider Other Last Name Type Code', 'Provider First Line Business Mailing Address', 'Provider Second Line Business Mailing Address', 'Provider Business Mailing Address City Name', 'Provider Business Mailing Address State Name', 'Provider Business Mailing Address Postal Code', 'Provider Business Mailing Address Country Code (If outside U.S.)', 'Provider Business Mailing Address Telephone Number', 'Provider Business Mailing Address Fax Number', 'Provider First Line Business Practice Location Address', 'Provider Second Line Business Practice Location Address', 'Provider Business Practice Location Address City Name', 'Provider Business Practice Location Address State Name', 'Provider Business Practice Location Address Postal Code', 'Provider Business Practice Location Address Country Code (If outside U.S.)', 'Provider Business Practice Location Address Telephone Number', 'Provider Business Practice Location Address Fax Number', 'Provider Enumeration Date', 'Last Update Date', 'NPI Deactivation Reason Code', 'NPI Deactivation Date', 'NPI Reactivation Date', 'Provider Gender Code']\n",
            "Initial column count in npidata_df: 43\n",
            "Common columns (excluding 'npi'): []\n",
            "Columns in npidata_df after dropping common columns: ['row', 'npi', 'Entity Type Code', 'Replacement NPI', 'Employer Identification Number (EIN)', 'Provider Organization Name (Legal Business Name)', 'Provider Last Name (Legal Name)', 'Provider First Name', 'Provider Middle Name', 'Provider Name Prefix Text', 'Provider Name Suffix Text', 'Provider Credential Text', 'Provider Other Organization Name', 'Provider Other Organization Name Type Code', 'Provider Other Last Name', 'Provider Other First Name', 'Provider Other Middle Name', 'Provider Other Name Prefix Text', 'Provider Other Name Suffix Text', 'Provider Other Credential Text', 'Provider Other Last Name Type Code', 'Provider First Line Business Mailing Address', 'Provider Second Line Business Mailing Address', 'Provider Business Mailing Address City Name', 'Provider Business Mailing Address State Name', 'Provider Business Mailing Address Postal Code', 'Provider Business Mailing Address Country Code (If outside U.S.)', 'Provider Business Mailing Address Telephone Number', 'Provider Business Mailing Address Fax Number', 'Provider First Line Business Practice Location Address', 'Provider Second Line Business Practice Location Address', 'Provider Business Practice Location Address City Name', 'Provider Business Practice Location Address State Name', 'Provider Business Practice Location Address Postal Code', 'Provider Business Practice Location Address Country Code (If outside U.S.)', 'Provider Business Practice Location Address Telephone Number', 'Provider Business Practice Location Address Fax Number', 'Provider Enumeration Date', 'Last Update Date', 'NPI Deactivation Reason Code', 'NPI Deactivation Date', 'NPI Reactivation Date', 'Provider Gender Code']\n",
            "Column count in npidata_df after drop: 43\n",
            "Columns in the merged 'answer' dataframe: ['nbr', 'npi', 'provider_type', 'medicare_participation_indicator', 'number_of_hcpcs', 'total_services', 'total_unique_benes', 'total_submitted_chrg_amt', 'total_medicare_allowed_amt', 'total_medicare_payment_amt', 'total_medicare_stnd_amt', 'drug_suppress_indicator', 'number_of_drug_hcpcs', 'total_drug_services', 'total_drug_unique_benes', 'total_drug_submitted_chrg_amt', 'total_drug_medicare_allowed_amt', 'total_drug_medicare_payment_amt', 'total_drug_medicare_stnd_amt', 'med_suppress_indicator', 'number_of_med_hcpcs', 'total_med_services', 'total_med_unique_benes', 'total_med_submitted_chrg_amt', 'total_med_medicare_allowed_amt', 'total_med_medicare_payment_amt', 'total_med_medicare_stnd_amt', 'beneficiary_average_age', 'beneficiary_age_less_65_count', 'beneficiary_age_65_74_count', 'beneficiary_age_75_84_count', 'beneficiary_age_greater_84_count', 'beneficiary_female_count', 'beneficiary_male_count', 'beneficiary_race_white_count', 'beneficiary_race_black_count', 'beneficiary_race_api_count', 'beneficiary_race_hispanic_count', 'beneficiary_race_natind_count', 'beneficiary_race_other_count', 'beneficiary_nondual_count', 'beneficiary_dual_count', 'beneficiary_cc_afib_percent', 'beneficiary_cc_alzrdsd_percent', 'beneficiary_cc_asthma_percent', 'beneficiary_cc_cancer_percent', 'beneficiary_cc_chf_percent', 'beneficiary_cc_ckd_percent', 'beneficiary_cc_copd_percent', 'beneficiary_cc_depr_percent', 'beneficiary_cc_diab_percent', 'beneficiary_cc_hyperl_percent', 'beneficiary_cc_hypert_percent', 'beneficiary_cc_ihd_percent', 'beneficiary_cc_ost_percent', 'beneficiary_cc_raoa_percent', 'beneficiary_cc_schiot_percent', 'beneficiary_cc_strk_percent', 'beneficiary_average_risk_score', 'year', 'row', 'Entity Type Code', 'Replacement NPI', 'Employer Identification Number (EIN)', 'Provider Organization Name (Legal Business Name)', 'Provider Last Name (Legal Name)', 'Provider First Name', 'Provider Middle Name', 'Provider Name Prefix Text', 'Provider Name Suffix Text', 'Provider Credential Text', 'Provider Other Organization Name', 'Provider Other Organization Name Type Code', 'Provider Other Last Name', 'Provider Other First Name', 'Provider Other Middle Name', 'Provider Other Name Prefix Text', 'Provider Other Name Suffix Text', 'Provider Other Credential Text', 'Provider Other Last Name Type Code', 'Provider First Line Business Mailing Address', 'Provider Second Line Business Mailing Address', 'Provider Business Mailing Address City Name', 'Provider Business Mailing Address State Name', 'Provider Business Mailing Address Postal Code', 'Provider Business Mailing Address Country Code (If outside U.S.)', 'Provider Business Mailing Address Telephone Number', 'Provider Business Mailing Address Fax Number', 'Provider First Line Business Practice Location Address', 'Provider Second Line Business Practice Location Address', 'Provider Business Practice Location Address City Name', 'Provider Business Practice Location Address State Name', 'Provider Business Practice Location Address Postal Code', 'Provider Business Practice Location Address Country Code (If outside U.S.)', 'Provider Business Practice Location Address Telephone Number', 'Provider Business Practice Location Address Fax Number', 'Provider Enumeration Date', 'Last Update Date', 'NPI Deactivation Reason Code', 'NPI Deactivation Date', 'NPI Reactivation Date', 'Provider Gender Code']\n",
            "Total number of columns in the merged dataframe: 102\n",
            "Shape of the merged dataframe: (193862, 102)\n"
          ]
        }
      ],
      "source": [
        "answer = None\n",
        "\n",
        "### SOLUTION\n",
        "\n",
        "# Load the npidata file\n",
        "npidata_df = pd.read_csv('npidata.csv')\n",
        "\n",
        "# Convert all column names to lowercase for consistency\n",
        "# npidata_df.columns = npidata_df.columns.str.lower()\n",
        "npidata_df = npidata_df.rename(columns={'NPI' : 'npi'})\n",
        "\n",
        "# Ensure that 'npi' columns in both dataframes are of the same type (string) and strip spaces\n",
        "cms_all_df['npi'] = cms_all_df['npi'].astype(str).str.strip()\n",
        "npidata_df['npi'] = npidata_df['npi'].astype(str).str.strip()\n",
        "\n",
        "# Check initial column counts and list columns for both dataframes\n",
        "print(f\"Initial columns in cms_all_df: {cms_all_df.columns.tolist()}\")\n",
        "print(f\"Initial column count in cms_all_df: {cms_all_df.shape[1]}\")\n",
        "print(f\"Initial columns in npidata_df: {npidata_df.columns.tolist()}\")\n",
        "print(f\"Initial column count in npidata_df: {npidata_df.shape[1]}\")\n",
        "\n",
        "# Find common columns between cms_all_df and npidata_df, excluding 'npi'\n",
        "common_columns = cms_all_df.columns.intersection(npidata_df.columns).difference(['npi'])\n",
        "\n",
        "# Print common columns to verify\n",
        "print(f\"Common columns (excluding 'npi'): {common_columns.tolist()}\")\n",
        "\n",
        "# Remove common columns in npidata_df to avoid duplication\n",
        "npidata_df = npidata_df.drop(columns=common_columns)\n",
        "\n",
        "# Check final column counts and list for both dataframes after drop operation\n",
        "print(f\"Columns in npidata_df after dropping common columns: {npidata_df.columns.tolist()}\")\n",
        "print(f\"Column count in npidata_df after drop: {npidata_df.shape[1]}\")\n",
        "\n",
        "# Perform the left join on 'npi'\n",
        "answer = cms_all_df.merge(npidata_df, on='npi', how='left')\n",
        "\n",
        "# Check the final columns in the merged dataframe\n",
        "print(f\"Columns in the merged 'answer' dataframe: {answer.columns.tolist()}\")\n",
        "print(f\"Total number of columns in the merged dataframe: {len(answer.columns)}\")\n",
        "print(f\"Shape of the merged dataframe: {answer.shape}\")\n",
        "\n"
      ]
    },
    {
      "cell_type": "code",
      "source": [
        "npidata_df.shape"
      ],
      "metadata": {
        "id": "zuGouB1DPcvC",
        "outputId": "36fd50a2-7055-43a1-dd52-be3b46954d62",
        "colab": {
          "base_uri": "https://localhost:8080/"
        }
      },
      "execution_count": 101,
      "outputs": [
        {
          "output_type": "execute_result",
          "data": {
            "text/plain": [
              "(251661, 43)"
            ]
          },
          "metadata": {},
          "execution_count": 101
        }
      ]
    },
    {
      "cell_type": "code",
      "source": [
        "answer.shape"
      ],
      "metadata": {
        "id": "MC0qwR1oPfhz",
        "outputId": "941d32f7-8cd3-404c-a389-e89369537049",
        "colab": {
          "base_uri": "https://localhost:8080/"
        }
      },
      "execution_count": 102,
      "outputs": [
        {
          "output_type": "execute_result",
          "data": {
            "text/plain": [
              "(193862, 102)"
            ]
          },
          "metadata": {},
          "execution_count": 102
        }
      ]
    },
    {
      "cell_type": "code",
      "execution_count": 103,
      "metadata": {
        "nbgrader": {
          "grade": true,
          "grade_id": "02-tests",
          "locked": true,
          "points": 5,
          "schema_version": 1,
          "solution": false
        },
        "id": "Ynm75x-HPCgm"
      },
      "outputs": [],
      "source": [
        "import numpy\n",
        "assert(answer.shape == (193862, 102))\n",
        "assert(list(answer['Provider Business Mailing Address State Name'].unique()) == ['IL','MO',numpy.nan,'WY'])\n",
        "assert(list(answer.groupby('Provider Business Mailing Address State Name').npi.count()) == [111520, 53366, 4805])"
      ]
    },
    {
      "cell_type": "markdown",
      "metadata": {
        "nbgrader": {
          "grade": false,
          "grade_id": "03-intro",
          "locked": true,
          "schema_version": 1,
          "solution": false
        },
        "id": "f23D9xflPCgm"
      },
      "source": [
        "## Part 3\n",
        "\n",
        "If you did everything right above, you'll notice that grouping by a column with NaN in it will cause some rows to disappear from the aggregation test.  So, let's create a new column called `'State'` that has the same value as whatever is in the `'Provider Business Mailing Address State Name'` column or a value of `'XX'` if there is no state information.\n",
        "\n",
        "Set `answer` to be your final data frame with the new `'State'` column added."
      ]
    },
    {
      "cell_type": "code",
      "execution_count": 104,
      "metadata": {
        "nbgrader": {
          "grade": false,
          "grade_id": "03-solution",
          "locked": false,
          "schema_version": 1,
          "solution": true
        },
        "id": "prDCc55PPCgm",
        "outputId": "bf336819-7450-4273-b57f-17c1c43cdd8b",
        "colab": {
          "base_uri": "https://localhost:8080/"
        }
      },
      "outputs": [
        {
          "output_type": "stream",
          "name": "stdout",
          "text": [
            "  Provider Business Mailing Address State Name State\n",
            "0                                           IL    IL\n",
            "1                                           IL    IL\n",
            "2                                           MO    MO\n",
            "3                                           MO    MO\n",
            "4                                           IL    IL\n"
          ]
        }
      ],
      "source": [
        "# answer = None\n",
        "\n",
        "import numpy as np\n",
        "\n",
        "# Create the new 'State' column\n",
        "answer['State'] = answer['Provider Business Mailing Address State Name'].fillna('XX')\n",
        "\n",
        "# Check the first few rows to confirm the new 'State' column\n",
        "print(answer[['Provider Business Mailing Address State Name', 'State']].head())\n",
        "\n"
      ]
    },
    {
      "cell_type": "code",
      "source": [
        "answer.shape"
      ],
      "metadata": {
        "id": "NSNZYCq9Tahs",
        "outputId": "6fedc4fd-c87f-49d5-b565-aa6f83924b07",
        "colab": {
          "base_uri": "https://localhost:8080/"
        }
      },
      "execution_count": 105,
      "outputs": [
        {
          "output_type": "execute_result",
          "data": {
            "text/plain": [
              "(193862, 103)"
            ]
          },
          "metadata": {},
          "execution_count": 105
        }
      ]
    },
    {
      "cell_type": "code",
      "execution_count": 106,
      "metadata": {
        "nbgrader": {
          "grade": true,
          "grade_id": "03-tests",
          "locked": true,
          "points": 5,
          "schema_version": 1,
          "solution": false
        },
        "id": "Sv33GqTUPCgn"
      },
      "outputs": [],
      "source": [
        "assert(list(answer.groupby('State').npi.count()) == [111520, 53366, 4805, 24171])\n",
        "assert(answer.shape == (193862, 103))"
      ]
    },
    {
      "cell_type": "markdown",
      "metadata": {
        "nbgrader": {
          "grade": false,
          "grade_id": "04-intro",
          "locked": true,
          "schema_version": 1,
          "solution": false
        },
        "id": "Xfnx9tBFPCgn"
      },
      "source": [
        "## Part 4\n",
        "\n",
        "Next, let's summarize the data by year and by State.  Create a pivot table that contains one row for each state and one column for each year.  Within the pivot table, put a sum of total services as the values.\n",
        "\n",
        "Assign `answer` to be that resulting pivot table.  In the tests, I'm going to plot a bar chart of your pivot table."
      ]
    },
    {
      "cell_type": "code",
      "source": [
        "# Check the columns in the 'answer' DataFrame to identify the correct column name for total services\n",
        "print(answer.columns.tolist())"
      ],
      "metadata": {
        "id": "lrWDP0yCUA9A",
        "outputId": "c61aa171-fa3d-4811-f9db-c18e7930d5ee",
        "colab": {
          "base_uri": "https://localhost:8080/"
        }
      },
      "execution_count": 107,
      "outputs": [
        {
          "output_type": "stream",
          "name": "stdout",
          "text": [
            "['nbr', 'npi', 'provider_type', 'medicare_participation_indicator', 'number_of_hcpcs', 'total_services', 'total_unique_benes', 'total_submitted_chrg_amt', 'total_medicare_allowed_amt', 'total_medicare_payment_amt', 'total_medicare_stnd_amt', 'drug_suppress_indicator', 'number_of_drug_hcpcs', 'total_drug_services', 'total_drug_unique_benes', 'total_drug_submitted_chrg_amt', 'total_drug_medicare_allowed_amt', 'total_drug_medicare_payment_amt', 'total_drug_medicare_stnd_amt', 'med_suppress_indicator', 'number_of_med_hcpcs', 'total_med_services', 'total_med_unique_benes', 'total_med_submitted_chrg_amt', 'total_med_medicare_allowed_amt', 'total_med_medicare_payment_amt', 'total_med_medicare_stnd_amt', 'beneficiary_average_age', 'beneficiary_age_less_65_count', 'beneficiary_age_65_74_count', 'beneficiary_age_75_84_count', 'beneficiary_age_greater_84_count', 'beneficiary_female_count', 'beneficiary_male_count', 'beneficiary_race_white_count', 'beneficiary_race_black_count', 'beneficiary_race_api_count', 'beneficiary_race_hispanic_count', 'beneficiary_race_natind_count', 'beneficiary_race_other_count', 'beneficiary_nondual_count', 'beneficiary_dual_count', 'beneficiary_cc_afib_percent', 'beneficiary_cc_alzrdsd_percent', 'beneficiary_cc_asthma_percent', 'beneficiary_cc_cancer_percent', 'beneficiary_cc_chf_percent', 'beneficiary_cc_ckd_percent', 'beneficiary_cc_copd_percent', 'beneficiary_cc_depr_percent', 'beneficiary_cc_diab_percent', 'beneficiary_cc_hyperl_percent', 'beneficiary_cc_hypert_percent', 'beneficiary_cc_ihd_percent', 'beneficiary_cc_ost_percent', 'beneficiary_cc_raoa_percent', 'beneficiary_cc_schiot_percent', 'beneficiary_cc_strk_percent', 'beneficiary_average_risk_score', 'year', 'row', 'Entity Type Code', 'Replacement NPI', 'Employer Identification Number (EIN)', 'Provider Organization Name (Legal Business Name)', 'Provider Last Name (Legal Name)', 'Provider First Name', 'Provider Middle Name', 'Provider Name Prefix Text', 'Provider Name Suffix Text', 'Provider Credential Text', 'Provider Other Organization Name', 'Provider Other Organization Name Type Code', 'Provider Other Last Name', 'Provider Other First Name', 'Provider Other Middle Name', 'Provider Other Name Prefix Text', 'Provider Other Name Suffix Text', 'Provider Other Credential Text', 'Provider Other Last Name Type Code', 'Provider First Line Business Mailing Address', 'Provider Second Line Business Mailing Address', 'Provider Business Mailing Address City Name', 'Provider Business Mailing Address State Name', 'Provider Business Mailing Address Postal Code', 'Provider Business Mailing Address Country Code (If outside U.S.)', 'Provider Business Mailing Address Telephone Number', 'Provider Business Mailing Address Fax Number', 'Provider First Line Business Practice Location Address', 'Provider Second Line Business Practice Location Address', 'Provider Business Practice Location Address City Name', 'Provider Business Practice Location Address State Name', 'Provider Business Practice Location Address Postal Code', 'Provider Business Practice Location Address Country Code (If outside U.S.)', 'Provider Business Practice Location Address Telephone Number', 'Provider Business Practice Location Address Fax Number', 'Provider Enumeration Date', 'Last Update Date', 'NPI Deactivation Reason Code', 'NPI Deactivation Date', 'NPI Reactivation Date', 'Provider Gender Code', 'State']\n"
          ]
        }
      ]
    },
    {
      "cell_type": "code",
      "execution_count": 108,
      "metadata": {
        "nbgrader": {
          "grade": false,
          "grade_id": "04-solution",
          "locked": false,
          "schema_version": 1,
          "solution": true
        },
        "id": "PUo2kUaqPCgn",
        "outputId": "6a5170d6-f818-4b78-892b-f3ebcfdcc725",
        "colab": {
          "base_uri": "https://localhost:8080/"
        }
      },
      "outputs": [
        {
          "output_type": "stream",
          "name": "stdout",
          "text": [
            "year          2014         2015         2016\n",
            "State                                       \n",
            "IL     101393758.4  103048716.3  105432032.4\n",
            "MO      48577227.1   50808468.0   50854632.1\n",
            "WY       3487240.6    3800978.9    3604487.9\n",
            "XX      14938636.4   16533705.2   16705781.4\n",
            "Total sum with precision: 519185664.7000000\n"
          ]
        }
      ],
      "source": [
        "%matplotlib inline\n",
        "# answer = None\n",
        "\n",
        "### SOLUTION\n",
        "# Assuming you have a column for total services and year (adjust the column names as needed)\n",
        "# Let's first extract the year from the relevant date column, if it exists. Otherwise, we'll assume 'year' is already a column.\n",
        "\n",
        "# If the 'year' is not a column, extract from a date column (e.g., 'date_of_service')\n",
        "# answer['Year'] = pd.to_datetime(answer['date_of_service']).dt.year\n",
        "\n",
        "import numpy as np\n",
        "np.set_printoptions(precision=16)  # Set print options to show more precision for display\n",
        "\n",
        "# Create a pivot table: sum of total services by State and Year\n",
        "pivot_table = answer.pivot_table(\n",
        "    values='total_services',   # Replace 'total_services' with the actual column name for services\n",
        "    index='State',             # Rows will be states\n",
        "    columns='year',            # Columns will be years\n",
        "    aggfunc='sum',             # Aggregate function to sum the total services\n",
        "    fill_value=0               # Replace NaN values with 0\n",
        ")\n",
        "\n",
        "# The values are stored with full precision, no rounding applied\n",
        "answer = pivot_table\n",
        "\n",
        "# Print the pivot table to check the result, showing full precision\n",
        "print(answer)\n",
        "\n",
        "# If you want to see the total sum with the desired precision:\n",
        "total_sum = answer.sum().sum()\n",
        "print(f\"Total sum with precision: {total_sum:.7f}\")\n"
      ]
    },
    {
      "cell_type": "code",
      "source": [
        "answer.sum().sum()"
      ],
      "metadata": {
        "id": "eTpGj8akUTsF",
        "outputId": "d6e2d300-58c4-40b9-ed19-2fce8c3921c3",
        "colab": {
          "base_uri": "https://localhost:8080/"
        }
      },
      "execution_count": 109,
      "outputs": [
        {
          "output_type": "execute_result",
          "data": {
            "text/plain": [
              "519185664.7"
            ]
          },
          "metadata": {},
          "execution_count": 109
        }
      ]
    },
    {
      "cell_type": "code",
      "source": [
        "answer[2016].sum()"
      ],
      "metadata": {
        "id": "4XXKqMBcV94e",
        "outputId": "4d04f36b-908b-4dd6-b795-abd5995deb34",
        "colab": {
          "base_uri": "https://localhost:8080/"
        }
      },
      "execution_count": 110,
      "outputs": [
        {
          "output_type": "execute_result",
          "data": {
            "text/plain": [
              "176596933.8"
            ]
          },
          "metadata": {},
          "execution_count": 110
        }
      ]
    },
    {
      "cell_type": "code",
      "execution_count": 111,
      "metadata": {
        "nbgrader": {
          "grade": true,
          "grade_id": "04-tests",
          "locked": true,
          "points": 5,
          "schema_version": 1,
          "solution": false
        },
        "id": "_rAhbS4WPCgn"
      },
      "outputs": [],
      "source": [
        "assert(answer.shape == (4,3))\n",
        "assert(answer.sum().sum() == 519185664.7)\n",
        "assert(answer[2016].sum() == 176596933.8)\n",
        "assert(answer.loc['WY'].sum() == 10892707.4)"
      ]
    },
    {
      "cell_type": "code",
      "execution_count": 112,
      "metadata": {
        "id": "QSQitPedPCgo",
        "outputId": "d223f8c7-292c-4490-df7b-09116b03d38f",
        "colab": {
          "base_uri": "https://localhost:8080/",
          "height": 490
        }
      },
      "outputs": [
        {
          "output_type": "execute_result",
          "data": {
            "text/plain": [
              "<Axes: xlabel='State'>"
            ]
          },
          "metadata": {},
          "execution_count": 112
        },
        {
          "output_type": "display_data",
          "data": {
            "text/plain": [
              "<Figure size 640x480 with 1 Axes>"
            ],
            "image/png": "[encoded data removed]"
          },
          "metadata": {}
        }
      ],
      "source": [
        "%matplotlib inline\n",
        "answer.plot.bar()"
      ]
    },
    {
      "cell_type": "code",
      "execution_count": 112,
      "metadata": {
        "id": "1AHfF08jPCgo"
      },
      "outputs": [],
      "source": []
    }
  ],
  "metadata": {
    "celltoolbar": "Create Assignment",
    "kernelspec": {
      "display_name": "Python 3",
      "language": "python",
      "name": "python3"
    },
    "language_info": {
      "codemirror_mode": {
        "name": "ipython",
        "version": 3
      },
      "file_extension": ".py",
      "mimetype": "text/x-python",
      "name": "python",
      "nbconvert_exporter": "python",
      "pygments_lexer": "ipython3",
      "version": "3.6.7"
    },
    "colab": {
      "provenance": []
    }
  },
  "nbformat": 4,
  "nbformat_minor": 0
}